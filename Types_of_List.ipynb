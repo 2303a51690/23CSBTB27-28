{
  "nbformat": 4,
  "nbformat_minor": 0,
  "metadata": {
    "colab": {
      "provenance": [],
      "authorship_tag": "ABX9TyPIAjli62jbV6lT6+y4QKoy",
      "include_colab_link": true
    },
    "kernelspec": {
      "name": "python3",
      "display_name": "Python 3"
    },
    "language_info": {
      "name": "python"
    }
  },
  "cells": [
    {
      "cell_type": "markdown",
      "metadata": {
        "id": "view-in-github",
        "colab_type": "text"
      },
      "source": [
        "<a href=\"https://colab.research.google.com/github/2303a51690/23CSBTB27-28/blob/main/Types_of_List.ipynb\" target=\"_parent\"><img src=\"https://colab.research.google.com/assets/colab-badge.svg\" alt=\"Open In Colab\"/></a>"
      ]
    },
    {
      "cell_type": "code",
      "source": [
        "\n",
        "List=[\"geeks\",\"for\",\"geeks\"]\n",
        "List2=\"My First Lab\"\n",
        "List3=4.3\n",
        "List4=2j+6\n",
        "List5=\"Welcome to AIML lab\"\n",
        "print(type(List2))\n",
        "print(type(List3))\n",
        "print(type(List4))\n",
        "print(type(List5))\n",
        "print(\"\\nList Items:\")\n",
        "print(List)\n",
        "print(type(List))\n",
        "print(List[0])\n",
        "print(List[2])\n",
        "\n"
      ],
      "metadata": {
        "colab": {
          "base_uri": "https://localhost:8080/"
        },
        "id": "CQh2O3QslGx4",
        "outputId": "1bebfcf1-14b7-426d-8027-c8a0d030412a"
      },
      "execution_count": 2,
      "outputs": [
        {
          "output_type": "stream",
          "name": "stdout",
          "text": [
            "<class 'str'>\n",
            "<class 'float'>\n",
            "<class 'complex'>\n",
            "<class 'str'>\n",
            "\n",
            "List Items:\n",
            "['geeks', 'for', 'geeks']\n",
            "<class 'list'>\n",
            "geeks\n",
            "geeks\n"
          ]
        }
      ]
    },
    {
      "cell_type": "code",
      "source": [],
      "metadata": {
        "id": "QlJpsEpLofO3"
      },
      "execution_count": null,
      "outputs": []
    }
  ]
}