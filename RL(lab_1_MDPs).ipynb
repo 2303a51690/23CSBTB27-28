{
  "nbformat": 4,
  "nbformat_minor": 0,
  "metadata": {
    "colab": {
      "provenance": [],
      "authorship_tag": "ABX9TyMn56SUlxDBohgiP4JR4trJ",
      "include_colab_link": true
    },
    "kernelspec": {
      "name": "python3",
      "display_name": "Python 3"
    },
    "language_info": {
      "name": "python"
    }
  },
  "cells": [
    {
      "cell_type": "markdown",
      "metadata": {
        "id": "view-in-github",
        "colab_type": "text"
      },
      "source": [
        "<a href=\"https://colab.research.google.com/github/2303a51690/23CSBTB27-28/blob/main/RL(lab_1_MDPs).ipynb\" target=\"_parent\"><img src=\"https://colab.research.google.com/assets/colab-badge.svg\" alt=\"Open In Colab\"/></a>"
      ]
    },
    {
      "cell_type": "code",
      "execution_count": 1,
      "metadata": {
        "id": "Hz3fPQkpzmip"
      },
      "outputs": [],
      "source": [
        "import numpy as np\n",
        "\n",
        "# MDP Setup\n",
        "states = [0, 1, 2, 3]  # Four states\n",
        "actions = ['a', 'b']   # Two possible actions\n",
        "\n",
        "# Transition model: T[s][a] = list of (probability, next_state, reward)\n",
        "T = {\n",
        "    0: {'a': [(1.0, 1, 0)],     'b': [(1.0, 2, 0)]},\n",
        "    1: {'a': [(1.0, 0, 0)],     'b': [(1.0, 3, 1)]},\n",
        "    2: {'a': [(1.0, 3, 1)],     'b': [(1.0, 0, 0)]},\n",
        "    3: {'a': [(1.0, 3, 0)],     'b': [(1.0, 3, 0)]}  # Terminal state\n",
        "}\n",
        "\n",
        "gamma = 0.9  # Discount factor\n"
      ]
    },
    {
      "cell_type": "code",
      "source": [
        "def value_iteration(states, actions, T, gamma=0.9, theta=1e-6):\n",
        "    V = np.zeros(len(states))  # Initialize value function\n",
        "    while True:\n",
        "        delta = 0\n",
        "        for s in states:\n",
        "            v = V[s]\n",
        "            V[s] = max(\n",
        "                sum(p * (r + gamma * V[s_]) for p, s_, r in T[s][a])\n",
        "                for a in actions\n",
        "            )\n",
        "            delta = max(delta, abs(v - V[s]))\n",
        "        if delta < theta:\n",
        "            break\n",
        "\n",
        "    # Derive policy from value function\n",
        "    policy = {}\n",
        "    for s in states:\n",
        "        best_a = max(actions, key=lambda a: sum(p * (r + gamma * V[s_]) for p, s_, r in T[s][a]))\n",
        "        policy[s] = best_a\n",
        "\n",
        "    return V, policy\n",
        "\n",
        "# Run value iteration\n",
        "V_vi, policy_vi = value_iteration(states, actions, T, gamma)\n",
        "print(\"Value Iteration:\")\n",
        "print(\"Values:\", V_vi)\n",
        "print(\"Policy:\", policy_vi)\n"
      ],
      "metadata": {
        "colab": {
          "base_uri": "https://localhost:8080/"
        },
        "id": "ZBULkMlo0Mmc",
        "outputId": "dd71351f-a2eb-4025-a9ae-735346c35411"
      },
      "execution_count": 2,
      "outputs": [
        {
          "output_type": "stream",
          "name": "stdout",
          "text": [
            "Value Iteration:\n",
            "Values: [0.9 1.  1.  0. ]\n",
            "Policy: {0: 'a', 1: 'b', 2: 'a', 3: 'a'}\n"
          ]
        }
      ]
    },
    {
      "cell_type": "code",
      "source": [
        "def policy_iteration(states, actions, T, gamma=0.9):\n",
        "    # Initialize arbitrary policy\n",
        "    policy = {s: np.random.choice(actions) for s in states}\n",
        "    V = np.zeros(len(states))\n",
        "\n",
        "    while True:\n",
        "        # Policy Evaluation\n",
        "        while True:\n",
        "            delta = 0\n",
        "            for s in states:\n",
        "                v = V[s]\n",
        "                a = policy[s]\n",
        "                V[s] = sum(p * (r + gamma * V[s_]) for p, s_, r in T[s][a])\n",
        "                delta = max(delta, abs(v - V[s]))\n",
        "            if delta < 1e-6:\n",
        "                break\n",
        "\n",
        "        # Policy Improvement\n",
        "        policy_stable = True\n",
        "        for s in states:\n",
        "            old_action = policy[s]\n",
        "            policy[s] = max(actions, key=lambda a: sum(p * (r + gamma * V[s_]) for p, s_, r in T[s][a]))\n",
        "            if old_action != policy[s]:\n",
        "                policy_stable = False\n",
        "\n",
        "        if policy_stable:\n",
        "            break\n",
        "\n",
        "    return V, policy\n",
        "\n",
        "# Run policy iteration\n",
        "V_pi, policy_pi = policy_iteration(states, actions, T, gamma)\n",
        "print(\"\\nPolicy Iteration:\")\n",
        "print(\"Values:\", V_pi)\n",
        "print(\"Policy:\", policy_pi)\n"
      ],
      "metadata": {
        "colab": {
          "base_uri": "https://localhost:8080/"
        },
        "id": "xq2n0tlP0ZEZ",
        "outputId": "5bb630e0-67cf-4f4c-a1ff-98463f9ccf7a"
      },
      "execution_count": 3,
      "outputs": [
        {
          "output_type": "stream",
          "name": "stdout",
          "text": [
            "\n",
            "Policy Iteration:\n",
            "Values: [0.9 1.  1.  0. ]\n",
            "Policy: {0: 'a', 1: 'b', 2: 'a', 3: 'a'}\n"
          ]
        }
      ]
    },
    {
      "cell_type": "code",
      "source": [],
      "metadata": {
        "id": "V2XlaPKx0bab"
      },
      "execution_count": null,
      "outputs": []
    }
  ]
}